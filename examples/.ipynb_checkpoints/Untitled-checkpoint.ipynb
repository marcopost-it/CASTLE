{
 "cells": [
  {
   "cell_type": "code",
   "execution_count": 27,
   "metadata": {},
   "outputs": [],
   "source": [
    "import pandas as pd\n",
    "import sklearn \n",
    "import sklearn.preprocessing \n",
    "import sklearn.ensemble\n",
    "import numpy as np"
   ]
  },
  {
   "cell_type": "code",
   "execution_count": 28,
   "metadata": {},
   "outputs": [],
   "source": [
    "path = 'spambase.csv'\n",
    "\n",
    "dataset = pd.read_csv(path,header=None).to_numpy()\n",
    "labels = dataset[:,-1]\n",
    "dataset = dataset[:,:-1]"
   ]
  },
  {
   "cell_type": "code",
   "execution_count": 29,
   "metadata": {},
   "outputs": [
    {
     "name": "stdout",
     "output_type": "stream",
     "text": [
      "accuracy = 0.914561196249592\n",
      "std_dev =  0.028419917503289226\n"
     ]
    }
   ],
   "source": [
    "scaler = sklearn.preprocessing.MinMaxScaler()\n",
    "scaled_dataset = scaler.fit_transform(dataset)\n",
    "\n",
    "clf = sklearn.ensemble.RandomForestClassifier(n_estimators=100, \n",
    "                                              max_depth=4,\n",
    "                                              random_state=0)\n",
    "scores = sklearn.model_selection.cross_val_score(clf, dataset, labels, cv=10,scoring='accuracy')\n",
    "\n",
    "print(\"accuracy =\", np.mean(scores))\n",
    "print(\"std_dev = \",np.std(scores))\n",
    "\n",
    "clf.fit(dataset,labels)\n",
    "model_labels = clf.predict(dataset)"
   ]
  },
  {
   "cell_type": "code",
   "execution_count": null,
   "metadata": {},
   "outputs": [],
   "source": [
    "from pyclustering.cluster import cluster_visualizer\n",
    "from pyclustering.cluster.birch import birch\n",
    "from pyclustering.samples.definitions import FCPS_SAMPLES\n",
    "from pyclustering.utils import read_sample\n",
    "\n",
    "# Create BIRCH algorithm to allocate three clusters.\n",
    "birch_instance = birch(dataset.tolist(), 3)\n",
    "# Run cluster analysis.\n",
    "birch_instance.process()\n",
    "# Get allocated clusters.\n",
    "clusters = birch_instance.get_clusters()\n",
    "# Visualize obtained clusters.\n",
    "#visualizer = cluster_visualizer()\n",
    "#visualizer.append_clusters(clusters, dataset)\n",
    "#visualizer.show()"
   ]
  },
  {
   "cell_type": "code",
   "execution_count": null,
   "metadata": {},
   "outputs": [],
   "source": [
    "from pyclustering.cluster import cluster_visualizer;\n",
    "from pyclustering.cluster.cure import cure;\n",
    "from pyclustering.utils import read_sample;\n",
    "from pyclustering.samples.definitions import FCPS_SAMPLES;\n",
    "# Input data in following format [ [0.1, 0.5], [0.3, 0.1], ... ].\n",
    "input_data = read_sample(FCPS_SAMPLES.SAMPLE_LSUN);\n",
    "# Allocate three clusters.\n",
    "cure_instance = cure(input_data, 3);\n",
    "cure_instance.process();\n",
    "clusters = cure_instance.get_clusters();\n",
    "# Visualize allocated clusters.\n",
    "# visualizer = cluster_visualizer();\n",
    "# visualizer.append_clusters(clusters, input_data);\n",
    "# visualizer.show();"
   ]
  }
 ],
 "metadata": {
  "kernelspec": {
   "display_name": "Python 3",
   "language": "python",
   "name": "python3"
  },
  "language_info": {
   "codemirror_mode": {
    "name": "ipython",
    "version": 3
   },
   "file_extension": ".py",
   "mimetype": "text/x-python",
   "name": "python",
   "nbconvert_exporter": "python",
   "pygments_lexer": "ipython3",
   "version": "3.7.4"
  }
 },
 "nbformat": 4,
 "nbformat_minor": 4
}
