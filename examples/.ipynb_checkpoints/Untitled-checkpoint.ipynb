{
 "cells": [
  {
   "cell_type": "code",
   "execution_count": 20,
   "metadata": {},
   "outputs": [],
   "source": [
    "import os,sys,inspect\n",
    "\n",
    "# magagna per importare la cartella padre. \n",
    "# TODO: aggiustare con il setup giusto nel caso diventassimo famosi\n",
    "currentdir = os.path.dirname(os.path.abspath(inspect.getfile(inspect.currentframe())))\n",
    "parentdir = os.path.dirname(currentdir)\n",
    "sys.path.insert(0,parentdir)\n",
    "sys.path.insert(0,'C:\\\\Users\\\\Valerio\\\\Documents\\\\GitHub\\\\CASTLE\\\\utils')\n",
    "\n",
    "import pandas as pd\n",
    "import sklearn \n",
    "import sklearn.preprocessing \n",
    "import sklearn.ensemble\n",
    "import numpy as np\n",
    "import clustering_utils as cu"
   ]
  },
  {
   "cell_type": "code",
   "execution_count": 21,
   "metadata": {},
   "outputs": [],
   "source": [
    "path = 'spambase.csv'\n",
    "\n",
    "dataset = pd.read_csv(path,header=None).to_numpy()\n",
    "labels = dataset[:,-1]\n",
    "dataset = dataset[:,:-1]"
   ]
  },
  {
   "cell_type": "code",
   "execution_count": 22,
   "metadata": {},
   "outputs": [
    {
     "name": "stdout",
     "output_type": "stream",
     "text": [
      "accuracy = 0.914561196249592\n",
      "std_dev =  0.028419917503289226\n"
     ]
    }
   ],
   "source": [
    "scaler = sklearn.preprocessing.MinMaxScaler()\n",
    "scaled_dataset = scaler.fit_transform(dataset)\n",
    "\n",
    "clf = sklearn.ensemble.RandomForestClassifier(n_estimators=100, \n",
    "                                              max_depth=4,\n",
    "                                              random_state=0)\n",
    "scores = sklearn.model_selection.cross_val_score(clf, dataset, labels, cv=10,scoring='accuracy')\n",
    "\n",
    "print(\"accuracy =\", np.mean(scores))\n",
    "print(\"std_dev = \",np.std(scores))\n",
    "\n",
    "clf.fit(dataset,labels)\n",
    "model_labels = clf.predict(dataset)"
   ]
  },
  {
   "cell_type": "code",
   "execution_count": 23,
   "metadata": {},
   "outputs": [],
   "source": [
    "from scipy.cluster.hierarchy import dendrogram, linkage\n",
    "from matplotlib import pyplot as plt\n",
    "\n",
    "linked = linkage(scaled_dataset, 'ward')\n"
   ]
  },
  {
   "cell_type": "code",
   "execution_count": null,
   "metadata": {},
   "outputs": [],
   "source": [
    "plt.figure(figsize=(10, 7))\n",
    "dendrogram(linked,\n",
    "            orientation='right',\n",
    "            distance_sort='descending',\n",
    "            show_leaf_counts=False)\n",
    "plt.show()"
   ]
  },
  {
   "cell_type": "code",
   "execution_count": null,
   "metadata": {},
   "outputs": [],
   "source": [
    "from sklearn.cluster import AgglomerativeClustering\n",
    "\n",
    "clustering = AgglomerativeClustering(n_clusters=5)\n",
    "cluster_assignments = clustering.fit_predict(scaled_dataset)"
   ]
  },
  {
   "cell_type": "code",
   "execution_count": 14,
   "metadata": {},
   "outputs": [
    {
     "ename": "NameError",
     "evalue": "name 'cu' is not defined",
     "output_type": "error",
     "traceback": [
      "\u001b[1;31m---------------------------------------------------------------------------\u001b[0m",
      "\u001b[1;31mNameError\u001b[0m                                 Traceback (most recent call last)",
      "\u001b[1;32m<ipython-input-14-cb3ba3ec2047>\u001b[0m in \u001b[0;36m<module>\u001b[1;34m\u001b[0m\n\u001b[0;32m      6\u001b[0m \u001b[1;33m\u001b[0m\u001b[0m\n\u001b[0;32m      7\u001b[0m \u001b[1;32mfor\u001b[0m \u001b[0mi\u001b[0m \u001b[1;32min\u001b[0m \u001b[0mrange\u001b[0m\u001b[1;33m(\u001b[0m\u001b[0mlen\u001b[0m\u001b[1;33m(\u001b[0m\u001b[0mclusters\u001b[0m\u001b[1;33m)\u001b[0m\u001b[1;33m)\u001b[0m\u001b[1;33m:\u001b[0m\u001b[1;33m\u001b[0m\u001b[1;33m\u001b[0m\u001b[0m\n\u001b[1;32m----> 8\u001b[1;33m     \u001b[0mprint\u001b[0m\u001b[1;33m(\u001b[0m\u001b[1;34m'Cluster '\u001b[0m\u001b[1;33m,\u001b[0m\u001b[0mi\u001b[0m\u001b[1;33m,\u001b[0m\u001b[1;34m' - '\u001b[0m\u001b[1;33m,\u001b[0m\u001b[0mcounts\u001b[0m\u001b[1;33m[\u001b[0m\u001b[0mi\u001b[0m\u001b[1;33m]\u001b[0m\u001b[1;33m,\u001b[0m\u001b[1;34m' '\u001b[0m\u001b[1;33m,\u001b[0m\u001b[0mcu\u001b[0m\u001b[1;33m.\u001b[0m\u001b[0mcompute_purity\u001b[0m\u001b[1;33m(\u001b[0m\u001b[0mclusters\u001b[0m\u001b[1;33m[\u001b[0m\u001b[0mi\u001b[0m\u001b[1;33m]\u001b[0m\u001b[1;33m,\u001b[0m \u001b[0mcluster_assignments\u001b[0m\u001b[1;33m,\u001b[0m \u001b[0mmodel_labels\u001b[0m\u001b[1;33m)\u001b[0m\u001b[1;33m)\u001b[0m\u001b[1;33m\u001b[0m\u001b[1;33m\u001b[0m\u001b[0m\n\u001b[0m\u001b[0;32m      9\u001b[0m     \u001b[0mmajor_class\u001b[0m\u001b[1;33m,\u001b[0m\u001b[0m_\u001b[0m \u001b[1;33m=\u001b[0m \u001b[0mcu\u001b[0m\u001b[1;33m.\u001b[0m\u001b[0mcompute_purity\u001b[0m\u001b[1;33m(\u001b[0m\u001b[0mclusters\u001b[0m\u001b[1;33m[\u001b[0m\u001b[0mi\u001b[0m\u001b[1;33m]\u001b[0m\u001b[1;33m,\u001b[0m \u001b[0mcluster_assignments\u001b[0m\u001b[1;33m,\u001b[0m \u001b[0mmodel_labels\u001b[0m\u001b[1;33m)\u001b[0m\u001b[1;33m\u001b[0m\u001b[1;33m\u001b[0m\u001b[0m\n\u001b[0;32m     10\u001b[0m     \u001b[1;31m#print(major_class)\u001b[0m\u001b[1;33m\u001b[0m\u001b[1;33m\u001b[0m\u001b[1;33m\u001b[0m\u001b[0m\n",
      "\u001b[1;31mNameError\u001b[0m: name 'cu' is not defined"
     ]
    }
   ],
   "source": [
    "c_0 = []\n",
    "c_1 = []\n",
    "dimensionality = dataset.shape[1]\n",
    "\n",
    "clusters, counts = np.unique(cluster_assignments[cluster_assignments >= 0],return_counts =True)\n",
    "\n",
    "for i in range(len(clusters)):\n",
    "    print('Cluster ',i,' - ',counts[i],' ',cu.compute_purity(clusters[i], cluster_assignments, model_labels))\n",
    "    major_class,_ = cu.compute_purity(clusters[i], cluster_assignments, model_labels)\n",
    "    #print(major_class)\n",
    "    if major_class == 0:\n",
    "        c_0.append( (i,counts[i],cu.compute_cluster_description(clusters[i], cluster_assignments, dataset, dimensionality)) )\n",
    "    else:\n",
    "        c_1.append( (i,counts[i],cu.compute_cluster_description(clusters[i], cluster_assignments, dataset, dimensionality)) )"
   ]
  },
  {
   "cell_type": "code",
   "execution_count": null,
   "metadata": {},
   "outputs": [],
   "source": []
  }
 ],
 "metadata": {
  "kernelspec": {
   "display_name": "Python 3",
   "language": "python",
   "name": "python3"
  },
  "language_info": {
   "codemirror_mode": {
    "name": "ipython",
    "version": 3
   },
   "file_extension": ".py",
   "mimetype": "text/x-python",
   "name": "python",
   "nbconvert_exporter": "python",
   "pygments_lexer": "ipython3",
   "version": "3.7.4"
  }
 },
 "nbformat": 4,
 "nbformat_minor": 4
}
